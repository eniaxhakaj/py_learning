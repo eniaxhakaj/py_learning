{
 "cells": [
  {
   "cell_type": "code",
   "execution_count": 1,
   "metadata": {},
   "outputs": [],
   "source": [
    "import numpy as np \n",
    "import pandas as pd \n",
    "import xarray as xr"
   ]
  },
  {
   "cell_type": "markdown",
   "metadata": {},
   "source": [
    "Easy introduction: https://www.ecmwf.int/sites/default/files/elibrary/2017/17837-xarray-n-d-labeled-arrays-and-datasets-python.pdf\n",
    "\n",
    "\n",
    "## Create a DataArray \n",
    "\n",
    "- get the data from a numpy array or list with optional dimensions and coordinates"
   ]
  },
  {
   "cell_type": "code",
   "execution_count": 6,
   "metadata": {},
   "outputs": [
    {
     "data": {
      "text/plain": [
       "<xarray.DataArray (x: 2, y: 3)>\n",
       "array([[-0.251043,  0.718491,  0.067735],\n",
       "       [ 1.093429, -0.72558 , -0.053311]])\n",
       "Coordinates:\n",
       "  * x        (x) <U1 'a' 'b'\n",
       "Dimensions without coordinates: y"
      ]
     },
     "execution_count": 6,
     "metadata": {},
     "output_type": "execute_result"
    }
   ],
   "source": [
    "data = xr.DataArray(np.random.randn(2, 3), coords={'x': ['a', 'b']}, dims=('x', 'y'))\n",
    "\n",
    "\n"
   ]
  },
  {
   "cell_type": "markdown",
   "metadata": {},
   "source": [
    "## Indexing \n",
    "\n",
    "xarrays support 4 types of indexing. Works like (and as fast as) pandas"
   ]
  },
  {
   "cell_type": "code",
   "execution_count": 44,
   "metadata": {},
   "outputs": [
    {
     "name": "stdout",
     "output_type": "stream",
     "text": [
      "[[-0.25104301  0.71849113  0.06773485]\n",
      " [ 1.09342918 -0.72558031 -0.05331089]]\n",
      "\n",
      "[[-0.25104301  0.71849113  0.06773485]\n",
      " [ 1.09342918 -0.72558031 -0.05331089]]\n",
      "\n",
      "[[-0.25104301  0.71849113  0.06773485]\n",
      " [ 1.09342918 -0.72558031 -0.05331089]]\n"
     ]
    }
   ],
   "source": [
    "# positional and by integer label, like numpy\n",
    "print(data[[0, 1]].values)\n",
    "\n",
    "print ()\n",
    "# positional and by coordinate label, like pandas\n",
    "print (data.loc['a':'b'].values)\n",
    "\n",
    "print ()\n",
    "\n",
    "# by dimension name and integer label\n",
    "print (data.isel(y=slice(3)).values)"
   ]
  },
  {
   "cell_type": "markdown",
   "metadata": {},
   "source": [
    "## Computation \n",
    "\n",
    "Same way as numpy arrays "
   ]
  },
  {
   "cell_type": "code",
   "execution_count": 50,
   "metadata": {},
   "outputs": [
    {
     "name": "stdout",
     "output_type": "stream",
     "text": [
      "<xarray.DataArray (x: 2, y: 3)>\n",
      "array([[ 9.748957, 10.718491, 10.067735],\n",
      "       [11.093429,  9.27442 ,  9.946689]])\n",
      "Coordinates:\n",
      "  * x        (x) <U1 'a' 'b'\n",
      "Dimensions without coordinates: y \n",
      "-------------\n",
      "<xarray.DataArray (x: 2, y: 3)>\n",
      "array([[-0.248414,  0.65825 ,  0.067683],\n",
      "       [ 0.888208, -0.66357 , -0.053286]])\n",
      "Coordinates:\n",
      "  * x        (x) <U1 'a' 'b'\n",
      "Dimensions without coordinates: y \n",
      "-------------\n",
      "<xarray.DataArray (y: 3, x: 2)>\n",
      "array([[-0.251043,  1.093429],\n",
      "       [ 0.718491, -0.72558 ],\n",
      "       [ 0.067735, -0.053311]])\n",
      "Coordinates:\n",
      "  * x        (x) <U1 'a' 'b'\n",
      "Dimensions without coordinates: y \n",
      "-------------\n",
      "<xarray.DataArray ()>\n",
      "array(0.849721) \n",
      "-------------\n"
     ]
    }
   ],
   "source": [
    "print (data + 10. , \"\\n-------------\")\n",
    "\n",
    "print (np.sin(data) , \"\\n-------------\")\n",
    "\n",
    "print (data.T , \"\\n-------------\")\n",
    "\n",
    "print (data.sum() , \"\\n-------------\")"
   ]
  },
  {
   "cell_type": "markdown",
   "metadata": {},
   "source": [
    "## Adding two dimensions together: \n",
    "\n",
    "- arithmetic operations broadcasr based on dimension name "
   ]
  },
  {
   "cell_type": "code",
   "execution_count": 55,
   "metadata": {},
   "outputs": [],
   "source": [
    "a = xr.DataArray(np.random.randn(3), [data.coords['y']])\n",
    "b = xr.DataArray(np.random.randn(4), dims='z')"
   ]
  },
  {
   "cell_type": "code",
   "execution_count": 57,
   "metadata": {},
   "outputs": [
    {
     "data": {
      "text/plain": [
       "(array([ 0.1352864 , -0.57512182,  0.47335528]),\n",
       " array([ 0.37147218,  0.03194342,  0.33572492, -0.63229357]))"
      ]
     },
     "execution_count": 57,
     "metadata": {},
     "output_type": "execute_result"
    }
   ],
   "source": [
    "a.values, b.values"
   ]
  },
  {
   "cell_type": "code",
   "execution_count": 61,
   "metadata": {},
   "outputs": [
    {
     "data": {
      "text/plain": [
       "array([[ 0.50675858, -0.20364965,  0.84482746],\n",
       "       [ 0.16722982, -0.5431784 ,  0.5052987 ],\n",
       "       [ 0.47101132, -0.2393969 ,  0.8090802 ],\n",
       "       [-0.49700718, -1.2074154 , -0.15893829]])"
      ]
     },
     "execution_count": 61,
     "metadata": {},
     "output_type": "execute_result"
    }
   ],
   "source": [
    "# you can add each element of a to each element from b \n",
    "(b+a).values"
   ]
  },
  {
   "cell_type": "markdown",
   "metadata": {},
   "source": [
    "## Convert from xarrays to pandas and Datasets \n",
    "\n",
    "- can easily convert from xarrays to pandas \n",
    "- can easily create datasets (a dict like contaigner of aligned DataArray objects) "
   ]
  },
  {
   "cell_type": "markdown",
   "metadata": {},
   "source": [
    "## Clarifying the difference between dimensions and coordinates \n",
    "\n",
    "- **dimensions** are a verbal way to call axes for the array functions. So they will always try to return the full array on that directtion\n",
    "\n",
    "- **coordinates** are the equivalent of indecces on pandas  \n",
    "\n",
    "\n"
   ]
  },
  {
   "cell_type": "code",
   "execution_count": 128,
   "metadata": {},
   "outputs": [],
   "source": [
    "data = xr.DataArray(np.random.randn(100, 100, 100), \n",
    "                    coords={'x': np.arange(100), 'y': np.arange(100), 'z': np.arange(100)}, \n",
    "                    dims=('x', 'y', 'z'))\n",
    "\n",
    "# for my case we will not need to name each of the coordinates, but we can name the dimensions and then slice \n",
    "# on the dimensions given our coordinates \n"
   ]
  },
  {
   "cell_type": "code",
   "execution_count": 129,
   "metadata": {
    "scrolled": true
   },
   "outputs": [
    {
     "data": {
      "text/plain": [
       "array([[[ 9.18726021e-01, -3.74928809e-01,  6.92485618e-01, ...,\n",
       "          9.89194743e-01,  2.99878839e-01,  1.23478785e-01],\n",
       "        [ 5.69304042e-01,  1.20027195e-02, -4.97617050e-01, ...,\n",
       "         -1.16407075e-02, -1.89260115e+00, -7.39161483e-01],\n",
       "        [-5.58809220e-01,  4.63862116e-01, -8.67753670e-01, ...,\n",
       "         -1.76223624e+00,  6.15407743e-01,  1.51660082e+00],\n",
       "        ...,\n",
       "        [ 2.98299300e-01,  5.89452413e-01, -5.65392669e-01, ...,\n",
       "          5.29663316e-01,  7.24257612e-01, -9.85817790e-01],\n",
       "        [ 5.60724301e-01, -1.18464811e-01, -1.13196521e+00, ...,\n",
       "          7.74477375e-02,  8.30383815e-01,  1.67172358e+00],\n",
       "        [-3.87412227e-01,  1.88590778e+00,  1.10297175e+00, ...,\n",
       "          3.18953023e-01, -3.56593521e-01, -4.26090748e-02]],\n",
       "\n",
       "       [[ 6.34940091e-01, -2.07699817e+00, -6.31818449e-01, ...,\n",
       "          8.07657910e-01, -1.51299007e-01,  7.36067277e-01],\n",
       "        [-1.71216361e+00, -1.26122480e+00,  6.92428795e-01, ...,\n",
       "          4.01985218e-01,  6.30319522e-01,  1.57648414e+00],\n",
       "        [ 1.19118117e+00, -1.29914652e+00,  1.39399673e+00, ...,\n",
       "          2.67093161e-02,  1.89851125e+00, -1.47069809e+00],\n",
       "        ...,\n",
       "        [-1.96782181e+00, -2.62823820e-01, -3.06583460e-01, ...,\n",
       "         -1.54293893e+00,  7.14496958e-01, -1.61288632e-01],\n",
       "        [ 4.86160266e-01,  1.45998104e+00, -2.29165172e-01, ...,\n",
       "          4.41532718e-01, -6.75072178e-01,  5.57939413e-01],\n",
       "        [-3.85151483e-01,  5.94140322e-01,  3.11215872e-01, ...,\n",
       "          1.35940498e+00, -1.18513044e+00, -3.39615001e-01]],\n",
       "\n",
       "       [[ 1.51377109e+00, -7.58344422e-01, -2.12397720e-01, ...,\n",
       "          4.41205070e-01,  1.70073522e-01,  5.81102857e-01],\n",
       "        [-5.96958924e-01,  1.23353752e+00, -2.75528381e+00, ...,\n",
       "          7.79482262e-01,  1.12039760e+00,  1.91116194e-01],\n",
       "        [-4.47884369e-01, -2.97719282e-01, -7.81974309e-01, ...,\n",
       "         -1.03622881e+00, -9.50076423e-01, -2.10186708e-01],\n",
       "        ...,\n",
       "        [ 2.65239313e-01, -5.78434626e-01, -7.87706741e-01, ...,\n",
       "          1.84321145e+00,  3.83274424e-01,  1.09124875e+00],\n",
       "        [-8.12074121e-01,  1.34789446e+00, -2.53096990e+00, ...,\n",
       "          8.77273081e-01,  8.66243846e-01, -2.59651477e-01],\n",
       "        [ 8.69683629e-01, -1.36924064e-01,  2.30759800e-02, ...,\n",
       "         -5.55621428e-01,  6.33726156e-03,  1.36049302e+00]],\n",
       "\n",
       "       ...,\n",
       "\n",
       "       [[-4.43071712e-01,  8.02445573e-01,  1.26164206e-01, ...,\n",
       "          1.31531625e-01,  6.80661832e-01,  1.54916082e+00],\n",
       "        [-1.46539879e-01, -5.78974485e-02, -9.32132614e-01, ...,\n",
       "          2.56652121e-01, -1.92963587e+00,  8.31563800e-01],\n",
       "        [-3.89766539e-01,  2.22987884e+00, -1.22009209e-01, ...,\n",
       "          8.00366415e-01, -1.23779985e+00, -7.03209799e-01],\n",
       "        ...,\n",
       "        [-1.14104126e+00,  5.40836108e-01, -1.75984510e-01, ...,\n",
       "          4.69943831e-01,  1.41639985e+00,  3.47410315e-01],\n",
       "        [-1.15885112e+00,  4.09660298e-01, -3.40491561e-01, ...,\n",
       "         -4.81853657e-01, -9.10588962e-01,  4.92516527e-01],\n",
       "        [ 2.07196616e-01, -2.55027639e-01, -3.64331488e-01, ...,\n",
       "          6.00905726e-02, -2.00798359e-01, -1.70453224e+00]],\n",
       "\n",
       "       [[-4.80595685e-02, -8.37806826e-01,  6.22383405e-01, ...,\n",
       "         -7.04422953e-01, -1.42453056e+00,  3.61780496e-01],\n",
       "        [-4.76245619e-02, -2.43437101e-01,  2.37476489e-01, ...,\n",
       "         -1.39609339e-01,  5.08694169e-01,  5.87802435e-01],\n",
       "        [ 8.10000861e-01,  1.53095933e+00,  4.47606436e-01, ...,\n",
       "         -1.20630346e+00, -1.10981968e+00, -6.90441236e-01],\n",
       "        ...,\n",
       "        [ 1.15565295e+00,  4.38170640e-01, -5.50523737e-03, ...,\n",
       "         -9.69657051e-01, -8.66893643e-01,  1.54899627e+00],\n",
       "        [ 2.50875514e+00, -2.57831422e-03,  1.25800805e+00, ...,\n",
       "          6.71326237e-01, -1.59827531e+00,  1.69057363e+00],\n",
       "        [-8.60010919e-01, -5.98881797e-01, -3.73074556e-01, ...,\n",
       "         -3.98071066e-01, -6.04090090e-02,  1.41167134e+00]],\n",
       "\n",
       "       [[ 3.88630188e-01, -1.51514720e+00, -3.39856979e-01, ...,\n",
       "         -1.07647265e+00,  6.23512753e-01,  3.71069613e-01],\n",
       "        [-4.52817920e-03, -9.34087533e-01, -4.57136173e-01, ...,\n",
       "          1.68376952e+00,  5.90864013e-01, -1.12041006e-01],\n",
       "        [-2.84344865e-01, -1.75054000e-02,  9.11986095e-01, ...,\n",
       "         -6.12145898e-01, -5.56090662e-01,  3.11445055e-01],\n",
       "        ...,\n",
       "        [-1.05305392e+00,  9.03601853e-01, -9.11184616e-01, ...,\n",
       "         -7.41030446e-01, -7.32111934e-01, -1.05369049e+00],\n",
       "        [-8.73101433e-01,  1.31253054e+00, -1.93759348e+00, ...,\n",
       "         -1.18841829e+00, -3.14097368e-01, -5.20713459e-01],\n",
       "        [-2.40978921e+00, -6.45251502e-01,  3.64187117e-01, ...,\n",
       "          2.44244638e-02, -1.36430616e-01,  8.62285140e-01]]])"
      ]
     },
     "execution_count": 129,
     "metadata": {},
     "output_type": "execute_result"
    }
   ],
   "source": [
    "# checking our array: \n",
    "data.values"
   ]
  },
  {
   "cell_type": "code",
   "execution_count": 130,
   "metadata": {},
   "outputs": [
    {
     "data": {
      "text/plain": [
       "Coordinates:\n",
       "  * x        (x) int64 0 1 2 3 4 5 6 7 8 9 10 ... 90 91 92 93 94 95 96 97 98 99\n",
       "  * y        (y) int64 0 1 2 3 4 5 6 7 8 9 10 ... 90 91 92 93 94 95 96 97 98 99\n",
       "  * z        (z) int64 0 1 2 3 4 5 6 7 8 9 10 ... 90 91 92 93 94 95 96 97 98 99"
      ]
     },
     "execution_count": 130,
     "metadata": {},
     "output_type": "execute_result"
    }
   ],
   "source": [
    "# checking our coordinates \n",
    "data.coords"
   ]
  },
  {
   "cell_type": "code",
   "execution_count": 131,
   "metadata": {},
   "outputs": [
    {
     "data": {
      "text/plain": [
       "<xarray.DataArray (x: 2, y: 100, z: 100)>\n",
       "array([[[ 0.918726, -0.374929, ...,  0.299879,  0.123479],\n",
       "        [ 0.569304,  0.012003, ..., -1.892601, -0.739161],\n",
       "        ...,\n",
       "        [ 0.560724, -0.118465, ...,  0.830384,  1.671724],\n",
       "        [-0.387412,  1.885908, ..., -0.356594, -0.042609]],\n",
       "\n",
       "       [[ 0.63494 , -2.076998, ..., -0.151299,  0.736067],\n",
       "        [-1.712164, -1.261225, ...,  0.63032 ,  1.576484],\n",
       "        ...,\n",
       "        [ 0.48616 ,  1.459981, ..., -0.675072,  0.557939],\n",
       "        [-0.385151,  0.59414 , ..., -1.18513 , -0.339615]]])\n",
       "Coordinates:\n",
       "  * x        (x) int64 0 1\n",
       "  * y        (y) int64 0 1 2 3 4 5 6 7 8 9 10 ... 90 91 92 93 94 95 96 97 98 99\n",
       "  * z        (z) int64 0 1 2 3 4 5 6 7 8 9 10 ... 90 91 92 93 94 95 96 97 98 99"
      ]
     },
     "execution_count": 131,
     "metadata": {},
     "output_type": "execute_result"
    }
   ],
   "source": [
    "# slicing stuff so we see how it works \n",
    "data.isel(x=slice(2)) \n",
    "# slice the array so you get the array with the first two coordinates of the x array \n",
    "# the rest of the elements of the y and z dimensions"
   ]
  },
  {
   "cell_type": "code",
   "execution_count": 132,
   "metadata": {},
   "outputs": [
    {
     "data": {
      "text/plain": [
       "<xarray.DataArray (x: 100)>\n",
       "array([ 0.918726,  0.63494 ,  1.513771,  1.176929,  1.850477,  1.899534,\n",
       "       -1.059031,  0.345758, -2.05903 , -0.809691, -0.83651 , -0.330935,\n",
       "       -0.784653, -1.180967,  1.953103, -1.552595, -0.479478, -0.160214,\n",
       "        0.68258 ,  0.891143, -1.45566 , -0.882108, -1.064798, -0.329636,\n",
       "        0.915908, -0.470417, -0.261359, -0.186707, -1.487307, -1.687321,\n",
       "       -0.791828,  0.201099,  0.805674, -1.516007, -0.660584,  0.646293,\n",
       "        1.050131, -2.129005,  1.22172 ,  0.935798,  0.305109,  0.026836,\n",
       "       -1.53567 ,  0.71506 , -1.110271,  0.296964,  0.481104,  1.435986,\n",
       "       -0.243788,  0.608281, -1.072874, -0.230489, -0.123245, -0.691321,\n",
       "        0.527827, -1.58756 ,  0.152132,  0.208152, -0.941483, -0.460581,\n",
       "        0.185482,  0.753864,  1.205263,  0.456756, -0.182047, -1.057044,\n",
       "       -0.399228, -1.332571,  0.67068 , -0.201549,  0.456885, -0.09173 ,\n",
       "       -1.435661,  2.951403,  0.129482, -2.052067,  0.755702, -0.528773,\n",
       "       -0.902203, -1.838368,  0.530572, -2.031971,  0.985725, -1.857069,\n",
       "       -0.59856 ,  0.152481,  0.15479 ,  1.997732, -1.692046, -0.448743,\n",
       "        0.925097,  0.288492,  0.042779, -0.282744, -1.34756 , -0.35156 ,\n",
       "       -1.108377, -0.443072, -0.04806 ,  0.38863 ])\n",
       "Coordinates:\n",
       "  * x        (x) int64 0 1 2 3 4 5 6 7 8 9 10 ... 90 91 92 93 94 95 96 97 98 99\n",
       "    y        int64 0\n",
       "    z        int64 0"
      ]
     },
     "execution_count": 132,
     "metadata": {},
     "output_type": "execute_result"
    }
   ],
   "source": [
    "# getting the coordinates system to work: \n",
    "data.loc[:, 0, 0]"
   ]
  },
  {
   "cell_type": "code",
   "execution_count": null,
   "metadata": {},
   "outputs": [],
   "source": []
  },
  {
   "cell_type": "code",
   "execution_count": null,
   "metadata": {},
   "outputs": [],
   "source": []
  }
 ],
 "metadata": {
  "kernelspec": {
   "display_name": "Python 3",
   "language": "python",
   "name": "python3"
  },
  "language_info": {
   "codemirror_mode": {
    "name": "ipython",
    "version": 3
   },
   "file_extension": ".py",
   "mimetype": "text/x-python",
   "name": "python",
   "nbconvert_exporter": "python",
   "pygments_lexer": "ipython3",
   "version": "3.6.4"
  }
 },
 "nbformat": 4,
 "nbformat_minor": 2
}
